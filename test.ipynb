{
 "cells": [
  {
   "cell_type": "code",
   "execution_count": 7,
   "id": "81c9e5a0",
   "metadata": {},
   "outputs": [
    {
     "name": "stdout",
     "output_type": "stream",
     "text": [
      "1.0000000000000089\n",
      "798.2549543477703\n"
     ]
    }
   ],
   "source": [
    "import math\n",
    "\n",
    "\n",
    "v = 40 \n",
    "c = 299_792_458  \n",
    "m = 1  \n",
    "\n",
    "gamma = 1 / math.sqrt(1 - (v**2 / c**2))\n",
    "\n",
    "print(gamma)\n",
    "\n",
    "E_kin_relativistisch = (gamma - 1) * m * (c**2)\n",
    "\n",
    "print( E_kin_relativistisch)\n"
   ]
  }
 ],
 "metadata": {
  "kernelspec": {
   "display_name": "base",
   "language": "python",
   "name": "python3"
  },
  "language_info": {
   "codemirror_mode": {
    "name": "ipython",
    "version": 3
   },
   "file_extension": ".py",
   "mimetype": "text/x-python",
   "name": "python",
   "nbconvert_exporter": "python",
   "pygments_lexer": "ipython3",
   "version": "3.12.4"
  }
 },
 "nbformat": 4,
 "nbformat_minor": 5
}
